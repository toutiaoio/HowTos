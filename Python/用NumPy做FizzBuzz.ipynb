{
 "cells": [
  {
   "cell_type": "markdown",
   "metadata": {},
   "source": [
    "写一个程序，输出从 1 到 n 数字的字符串表示。\n",
    "\n",
    "1. 如果 n 是3的倍数，输出\"Fizz\"；\n",
    "2. 如果 n 是5的倍数，输出\"Buzz\"；\n",
    "3. 如果 n 同时是3和5的倍数，输出 \"FizzBuzz\"；\n",
    "4. 否则输出　n."
   ]
  },
  {
   "cell_type": "code",
   "execution_count": 1,
   "metadata": {},
   "outputs": [
    {
     "data": {
      "text/plain": [
       "array(['1', '2', 'Fizz', '4', 'Buzz', 'Fizz', '7', '8', 'Fizz', 'Buzz',\n",
       "       '11', 'Fizz', '13', '14', 'FizzBuzz', '16', '17', 'Fizz', '19',\n",
       "       'Buzz', 'Fizz', '22', '23', 'Fizz', 'Buzz', '26', 'Fizz', '28',\n",
       "       '29', 'FizzBuzz', '31', '32', 'Fizz', '34', 'Buzz', 'Fizz', '37',\n",
       "       '38', 'Fizz', 'Buzz', '41', 'Fizz', '43', '44', 'FizzBuzz', '46',\n",
       "       '47', 'Fizz', '49', 'Buzz', 'Fizz', '52', '53', 'Fizz', 'Buzz',\n",
       "       '56', 'Fizz', '58', '59', 'FizzBuzz', '61', '62', 'Fizz', '64',\n",
       "       'Buzz', 'Fizz', '67', '68', 'Fizz', 'Buzz', '71', 'Fizz', '73',\n",
       "       '74', 'FizzBuzz', '76', '77', 'Fizz', '79', 'Buzz', 'Fizz', '82',\n",
       "       '83', 'Fizz', 'Buzz', '86', 'Fizz', '88', '89', 'FizzBuzz', '91',\n",
       "       '92', 'Fizz', '94', 'Buzz', 'Fizz', '97', '98', 'Fizz', 'Buzz'],\n",
       "      dtype='<U21')"
      ]
     },
     "execution_count": 1,
     "metadata": {},
     "output_type": "execute_result"
    }
   ],
   "source": [
    "import numpy as np\n",
    "x = np.arange(1, 101)\n",
    "\n",
    "np.select([(x%3 == 0) & (x%5 == 0), (x%3 == 0), (x%5 == 0)], ['FizzBuzz','Fizz','Buzz'], x) "
   ]
  },
  {
   "cell_type": "code",
   "execution_count": null,
   "metadata": {},
   "outputs": [],
   "source": []
  }
 ],
 "metadata": {
  "kernelspec": {
   "display_name": "Python 3",
   "language": "python",
   "name": "python3"
  },
  "language_info": {
   "codemirror_mode": {
    "name": "ipython",
    "version": 3
   },
   "file_extension": ".py",
   "mimetype": "text/x-python",
   "name": "python",
   "nbconvert_exporter": "python",
   "pygments_lexer": "ipython3",
   "version": "3.7.7"
  }
 },
 "nbformat": 4,
 "nbformat_minor": 4
}
