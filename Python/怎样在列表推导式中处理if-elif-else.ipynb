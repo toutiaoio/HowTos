{
 "cells": [
  {
   "cell_type": "markdown",
   "metadata": {},
   "source": [
    "在列表推导式中用 `if-else` 很简单"
   ]
  },
  {
   "cell_type": "code",
   "execution_count": 1,
   "metadata": {},
   "outputs": [
    {
     "name": "stdout",
     "output_type": "stream",
     "text": [
      "['0: 偶数', '1: 奇数', '2: 偶数', '3: 奇数', '4: 偶数', '5: 奇数', '6: 偶数', '7: 奇数', '8: 偶数', '9: 奇数', '10: 偶数', '11: 奇数', '12: 偶数', '13: 奇数', '14: 偶数', '15: 奇数', '16: 偶数', '17: 奇数', '18: 偶数', '19: 奇数']\n"
     ]
    }
   ],
   "source": [
    "print([ f\"{i}: 偶数\" if i%2 == 0 else f\"{i}: 奇数\" for i in range(20)])"
   ]
  },
  {
   "cell_type": "markdown",
   "metadata": {},
   "source": [
    "但是怎么处理 `if-elif-else` 多条件判断呢？　比如我们想用列表推导式来做 FizzBuzz\n",
    "\n",
    "写一个程序，输出从 1 到 n 数字的字符串表示。\n",
    "\n",
    "1. 如果 n 是3的倍数，输出\"Fizz\"；\n",
    "2. 如果 n 是5的倍数，输出\"Buzz\"；\n",
    "3. 如果 n 同时是3和5的倍数，输出 \"FizzBuzz\"；\n",
    "4. 否则输出　n.\n"
   ]
  },
  {
   "cell_type": "code",
   "execution_count": 2,
   "metadata": {},
   "outputs": [
    {
     "name": "stdout",
     "output_type": "stream",
     "text": [
      "[1, 2, 'buzz', 4, 'fizz', 'buzz', 7, 8, 'buzz', 'fizz', 11, 'buzz', 13, 14, 'fizzbuzz', 16, 17, 'buzz', 19, 'fizz', 'buzz', 22, 23, 'buzz', 'fizz', 26, 'buzz', 28, 29, 'fizzbuzz', 31, 32, 'buzz', 34, 'fizz', 'buzz', 37, 38, 'buzz', 'fizz', 41, 'buzz', 43, 44, 'fizzbuzz', 46, 47, 'buzz', 49, 'fizz', 'buzz', 52, 53, 'buzz', 'fizz', 56, 'buzz', 58, 59, 'fizzbuzz', 61, 62, 'buzz', 64, 'fizz', 'buzz', 67, 68, 'buzz', 'fizz', 71, 'buzz', 73, 74, 'fizzbuzz', 76, 77, 'buzz', 79, 'fizz', 'buzz', 82, 83, 'buzz', 'fizz', 86, 'buzz', 88, 89, 'fizzbuzz', 91, 92, 'buzz', 94, 'fizz', 'buzz', 97, 98, 'buzz']\n"
     ]
    }
   ],
   "source": [
    "print(['fizzbuzz' if (i % 5 == 0 and i % 3 == 0)\n",
    "        else 'fizz' if i % 5 == 0 \n",
    "        else 'buzz' if i % 3 == 0 \n",
    "        else i for i in range(1, 100)])"
   ]
  },
  {
   "cell_type": "code",
   "execution_count": null,
   "metadata": {},
   "outputs": [],
   "source": []
  }
 ],
 "metadata": {
  "kernelspec": {
   "display_name": "Python 3",
   "language": "python",
   "name": "python3"
  },
  "language_info": {
   "codemirror_mode": {
    "name": "ipython",
    "version": 3
   },
   "file_extension": ".py",
   "mimetype": "text/x-python",
   "name": "python",
   "nbconvert_exporter": "python",
   "pygments_lexer": "ipython3",
   "version": "3.7.7"
  }
 },
 "nbformat": 4,
 "nbformat_minor": 4
}
