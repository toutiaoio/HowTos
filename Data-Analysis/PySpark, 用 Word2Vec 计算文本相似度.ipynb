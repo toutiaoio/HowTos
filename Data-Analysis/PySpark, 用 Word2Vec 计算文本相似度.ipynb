{
 "cells": [
  {
   "cell_type": "markdown",
   "metadata": {},
   "source": [
    "在这个示例中我们来介绍在 PySpark 中如何通过 Word2Vec (词向量模型) 来计算文本的相似度\n",
    "\n",
    "Word2Vec顾名思义，这是一个将单词转换成向量形式的工具。通过转换，可以把对文本内容的处理简化为向量空间中的向量运算，计算出向量空间上的相似度，来表示文本语义上的相似度."
   ]
  },
  {
   "cell_type": "code",
   "execution_count": 1,
   "metadata": {},
   "outputs": [],
   "source": [
    "import findspark\n",
    "findspark.init()"
   ]
  },
  {
   "cell_type": "code",
   "execution_count": 2,
   "metadata": {},
   "outputs": [],
   "source": [
    "import pandas as pd\n",
    "from pyspark.sql import SparkSession\n",
    "from pyspark.sql.types import (\n",
    "    StringType,\n",
    "    ArrayType,\n",
    "    FloatType\n",
    ")\n",
    "from pyspark.sql.functions import (\n",
    "    udf,\n",
    "    col\n",
    ")\n",
    "from pyspark.ml.feature import Word2Vec\n",
    "# !pip install jieba\n",
    "import jieba"
   ]
  },
  {
   "cell_type": "code",
   "execution_count": 3,
   "metadata": {},
   "outputs": [],
   "source": [
    "spark = (SparkSession\n",
    "    .builder\n",
    "    .appName(\"pyspark-word2vec-cosine-similarity\")\n",
    "    .getOrCreate())"
   ]
  },
  {
   "cell_type": "markdown",
   "metadata": {},
   "source": [
    "我们准备了拉取了一份开发者头条上的文章列表作为示例数据"
   ]
  },
  {
   "cell_type": "code",
   "execution_count": 4,
   "metadata": {},
   "outputs": [],
   "source": [
    "df = (spark.\n",
    "      read.\n",
    "      csv('/home/eric/Sync/datasets/misc/tech-posts.csv', header=True)\n",
    "      .select('id', 'title'))"
   ]
  },
  {
   "cell_type": "code",
   "execution_count": 5,
   "metadata": {},
   "outputs": [
    {
     "name": "stdout",
     "output_type": "stream",
     "text": [
      "+---+------------------------------------+\n",
      "| id|                               title|\n",
      "+---+------------------------------------+\n",
      "|  9|         [PDF]树莓派杂志《MagPi》...|\n",
      "| 16|         Python 学习资源列表（kir...|\n",
      "|  8|           Scala 最佳实践《Effect...|\n",
      "|  1|大众点评网的架构设计与实践（图文版）|\n",
      "|  5|             JavaScript 与有限状态机|\n",
      "|  6|                    iOS 开发工具列表|\n",
      "|  7|                HTML5/JavaScript ...|\n",
      "|  2|                    Angular 编程思想|\n",
      "| 72|  [译] 亲爱的项目经理，我恨你（外...|\n",
      "|  4|      如何让 Python 代码运行得更快？|\n",
      "| 73|                如何吸引技术合伙人？|\n",
      "| 10|                [PDF]Puppet 入门教程|\n",
      "| 75|             先试再问（Matt Ringel）|\n",
      "| 11|        如何优化网页转化率？（中篇）|\n",
      "| 76|         你喜欢/不喜欢什么编程语言？|\n",
      "| 12|     从协作编码到婚礼请柬：GitHub...|\n",
      "| 13|           从《寿司之神》学到的5件事|\n",
      "| 14|    张小龙2011年在华中科大的演讲实录|\n",
      "| 15|                       GitHub 好声音|\n",
      "| 96|         在 YC 学到的58件事（Amir...|\n",
      "+---+------------------------------------+\n",
      "only showing top 20 rows\n",
      "\n"
     ]
    }
   ],
   "source": [
    "df.show()"
   ]
  },
  {
   "cell_type": "markdown",
   "metadata": {},
   "source": [
    "这里我们用到了 [jieba](https://github.com/fxsjy/jieba) 分词工具，把分词封装为一个 udf 对上面的 DataFrame 的 `title` 进行分词"
   ]
  },
  {
   "cell_type": "code",
   "execution_count": 6,
   "metadata": {},
   "outputs": [],
   "source": [
    "def jieba_seg(x):\n",
    "    return [w for w in jieba.cut(x) if len(w)>1]"
   ]
  },
  {
   "cell_type": "code",
   "execution_count": 7,
   "metadata": {},
   "outputs": [],
   "source": [
    "jieba_seg_udf = udf(jieba_seg, ArrayType(StringType()))"
   ]
  },
  {
   "cell_type": "code",
   "execution_count": 8,
   "metadata": {},
   "outputs": [],
   "source": [
    "df = df.withColumn('words', jieba_seg_udf(df['title']))"
   ]
  },
  {
   "cell_type": "code",
   "execution_count": 9,
   "metadata": {},
   "outputs": [
    {
     "name": "stdout",
     "output_type": "stream",
     "text": [
      "root\n",
      " |-- id: string (nullable = true)\n",
      " |-- title: string (nullable = true)\n",
      " |-- words: array (nullable = true)\n",
      " |    |-- element: string (containsNull = true)\n",
      "\n"
     ]
    }
   ],
   "source": [
    "df.printSchema()"
   ]
  },
  {
   "cell_type": "markdown",
   "metadata": {},
   "source": [
    "拟合 Word2Vec 模型, 输出向量化"
   ]
  },
  {
   "cell_type": "code",
   "execution_count": 10,
   "metadata": {},
   "outputs": [],
   "source": [
    "model = Word2Vec(numPartitions=10, inputCol='words', outputCol='vecs').fit(df)"
   ]
  },
  {
   "cell_type": "code",
   "execution_count": 11,
   "metadata": {},
   "outputs": [
    {
     "data": {
      "text/plain": [
       "2703"
      ]
     },
     "execution_count": 11,
     "metadata": {},
     "output_type": "execute_result"
    }
   ],
   "source": [
    "model.getVectors().count()"
   ]
  },
  {
   "cell_type": "markdown",
   "metadata": {},
   "source": [
    "模型转换并做交叉JOIN"
   ]
  },
  {
   "cell_type": "code",
   "execution_count": 12,
   "metadata": {},
   "outputs": [],
   "source": [
    "df_transformed = model.transform(df)"
   ]
  },
  {
   "cell_type": "code",
   "execution_count": 13,
   "metadata": {},
   "outputs": [],
   "source": [
    "df_cross = df_transformed.select(\n",
    "    col('id').alias('id1'),\n",
    "    col('vecs').alias('vecs1')).crossJoin(df_transformed.select(\n",
    "        col('id').alias('id2'),\n",
    "        col('vecs').alias('vecs2'))\n",
    ")"
   ]
  },
  {
   "cell_type": "code",
   "execution_count": 14,
   "metadata": {},
   "outputs": [
    {
     "name": "stdout",
     "output_type": "stream",
     "text": [
      "+---+--------------------+---+--------------------+\n",
      "|id1|               vecs1|id2|               vecs2|\n",
      "+---+--------------------+---+--------------------+\n",
      "|  9|[0.00604514013975...|  9|[0.00604514013975...|\n",
      "|  9|[0.00604514013975...| 16|[0.00209978688508...|\n",
      "|  9|[0.00604514013975...|  8|[-0.0274142913985...|\n",
      "|  9|[0.00604514013975...|  1|[-0.0080286560580...|\n",
      "|  9|[0.00604514013975...|  5|[0.00677914172410...|\n",
      "|  9|[0.00604514013975...|  6|[-0.0022107351881...|\n",
      "|  9|[0.00604514013975...|  7|[3.40434722602367...|\n",
      "|  9|[0.00604514013975...|  2|[-0.0182423858592...|\n",
      "|  9|[0.00604514013975...| 72|[0.00141374469967...|\n",
      "|  9|[0.00604514013975...|  4|[-0.0282975720862...|\n",
      "|  9|[0.00604514013975...| 73|[-0.0131217022426...|\n",
      "|  9|[0.00604514013975...| 10|[0.00280306519319...|\n",
      "|  9|[0.00604514013975...| 75|[-9.9342122363547...|\n",
      "|  9|[0.00604514013975...| 11|[0.01116290185600...|\n",
      "|  9|[0.00604514013975...| 76|[0.01198206515982...|\n",
      "|  9|[0.00604514013975...| 12|[-0.0103134274748...|\n",
      "|  9|[0.00604514013975...| 13|[7.89615442045033...|\n",
      "|  9|[0.00604514013975...| 14|[0.00366029532160...|\n",
      "|  9|[0.00604514013975...| 15|[0.00222078245133...|\n",
      "|  9|[0.00604514013975...| 96|[-7.1811025263741...|\n",
      "+---+--------------------+---+--------------------+\n",
      "only showing top 20 rows\n",
      "\n"
     ]
    }
   ],
   "source": [
    "df_cross.show()"
   ]
  },
  {
   "cell_type": "markdown",
   "metadata": {},
   "source": [
    "用 cosine 构建相似度计算 udf"
   ]
  },
  {
   "cell_type": "code",
   "execution_count": 15,
   "metadata": {},
   "outputs": [],
   "source": [
    "from scipy import spatial\n",
    "\n",
    "@udf(returnType=FloatType())\n",
    "def sim(x, y):\n",
    "    return float(1 - spatial.distance.cosine(x, y))"
   ]
  },
  {
   "cell_type": "markdown",
   "metadata": {},
   "source": [
    "计算两个向量间的相似度 `sim`"
   ]
  },
  {
   "cell_type": "code",
   "execution_count": 16,
   "metadata": {},
   "outputs": [],
   "source": [
    "df_cross = df_cross.withColumn('sim', sim(df_cross['vecs1'], df_cross['vecs2']))"
   ]
  },
  {
   "cell_type": "markdown",
   "metadata": {},
   "source": [
    "我们用一个id来看一下效果, 按相似度降序排列取最相似的 top 10"
   ]
  },
  {
   "cell_type": "code",
   "execution_count": 17,
   "metadata": {},
   "outputs": [],
   "source": [
    "test_id = 7445"
   ]
  },
  {
   "cell_type": "code",
   "execution_count": 18,
   "metadata": {},
   "outputs": [],
   "source": [
    "pdf1 = df_cross.filter(col('id1')==test_id).toPandas()"
   ]
  },
  {
   "cell_type": "code",
   "execution_count": 19,
   "metadata": {},
   "outputs": [
    {
     "data": {
      "text/html": [
       "<div>\n",
       "<style scoped>\n",
       "    .dataframe tbody tr th:only-of-type {\n",
       "        vertical-align: middle;\n",
       "    }\n",
       "\n",
       "    .dataframe tbody tr th {\n",
       "        vertical-align: top;\n",
       "    }\n",
       "\n",
       "    .dataframe thead th {\n",
       "        text-align: right;\n",
       "    }\n",
       "</style>\n",
       "<table border=\"1\" class=\"dataframe\">\n",
       "  <thead>\n",
       "    <tr style=\"text-align: right;\">\n",
       "      <th></th>\n",
       "      <th>id1</th>\n",
       "      <th>vecs1</th>\n",
       "      <th>id2</th>\n",
       "      <th>vecs2</th>\n",
       "      <th>sim</th>\n",
       "    </tr>\n",
       "  </thead>\n",
       "  <tbody>\n",
       "    <tr>\n",
       "      <th>14797</th>\n",
       "      <td>7445</td>\n",
       "      <td>[0.06699860654771328, -0.07967841532081366, -0...</td>\n",
       "      <td>6727</td>\n",
       "      <td>[0.11702847061678767, -0.10443547181785107, -0...</td>\n",
       "      <td>0.985086</td>\n",
       "    </tr>\n",
       "    <tr>\n",
       "      <th>5564</th>\n",
       "      <td>7445</td>\n",
       "      <td>[0.06699860654771328, -0.07967841532081366, -0...</td>\n",
       "      <td>13586</td>\n",
       "      <td>[0.05327895730733872, -0.07372163236141205, -0...</td>\n",
       "      <td>0.982657</td>\n",
       "    </tr>\n",
       "    <tr>\n",
       "      <th>4920</th>\n",
       "      <td>7445</td>\n",
       "      <td>[0.06699860654771328, -0.07967841532081366, -0...</td>\n",
       "      <td>13061</td>\n",
       "      <td>[0.07758450843393803, -0.07245811559259892, -0...</td>\n",
       "      <td>0.981890</td>\n",
       "    </tr>\n",
       "    <tr>\n",
       "      <th>3441</th>\n",
       "      <td>7445</td>\n",
       "      <td>[0.06699860654771328, -0.07967841532081366, -0...</td>\n",
       "      <td>3443</td>\n",
       "      <td>[0.041676432359963655, -0.04655478027416393, -...</td>\n",
       "      <td>0.981710</td>\n",
       "    </tr>\n",
       "    <tr>\n",
       "      <th>4264</th>\n",
       "      <td>7445</td>\n",
       "      <td>[0.06699860654771328, -0.07967841532081366, -0...</td>\n",
       "      <td>12563</td>\n",
       "      <td>[0.04088592156767845, -0.04963424289599061, -0...</td>\n",
       "      <td>0.981029</td>\n",
       "    </tr>\n",
       "    <tr>\n",
       "      <th>11041</th>\n",
       "      <td>7445</td>\n",
       "      <td>[0.06699860654771328, -0.07967841532081366, -0...</td>\n",
       "      <td>10971</td>\n",
       "      <td>[0.07418017694726586, -0.08750347793102264, -0...</td>\n",
       "      <td>0.980928</td>\n",
       "    </tr>\n",
       "    <tr>\n",
       "      <th>14297</th>\n",
       "      <td>7445</td>\n",
       "      <td>[0.06699860654771328, -0.07967841532081366, -0...</td>\n",
       "      <td>6150</td>\n",
       "      <td>[0.0703863805780808, -0.08529900076488653, -0....</td>\n",
       "      <td>0.979687</td>\n",
       "    </tr>\n",
       "    <tr>\n",
       "      <th>14950</th>\n",
       "      <td>7445</td>\n",
       "      <td>[0.06699860654771328, -0.07967841532081366, -0...</td>\n",
       "      <td>6892</td>\n",
       "      <td>[0.044685299907411845, -0.05636310949921608, -...</td>\n",
       "      <td>0.978825</td>\n",
       "    </tr>\n",
       "    <tr>\n",
       "      <th>1879</th>\n",
       "      <td>7445</td>\n",
       "      <td>[0.06699860654771328, -0.07967841532081366, -0...</td>\n",
       "      <td>1901</td>\n",
       "      <td>[0.07205328019335866, -0.07813337352126837, -0...</td>\n",
       "      <td>0.978803</td>\n",
       "    </tr>\n",
       "    <tr>\n",
       "      <th>13691</th>\n",
       "      <td>7445</td>\n",
       "      <td>[0.06699860654771328, -0.07967841532081366, -0...</td>\n",
       "      <td>5431</td>\n",
       "      <td>[0.06258831359446049, -0.07637270260602236, -0...</td>\n",
       "      <td>0.978398</td>\n",
       "    </tr>\n",
       "  </tbody>\n",
       "</table>\n",
       "</div>"
      ],
      "text/plain": [
       "        id1                                              vecs1    id2  \\\n",
       "14797  7445  [0.06699860654771328, -0.07967841532081366, -0...   6727   \n",
       "5564   7445  [0.06699860654771328, -0.07967841532081366, -0...  13586   \n",
       "4920   7445  [0.06699860654771328, -0.07967841532081366, -0...  13061   \n",
       "3441   7445  [0.06699860654771328, -0.07967841532081366, -0...   3443   \n",
       "4264   7445  [0.06699860654771328, -0.07967841532081366, -0...  12563   \n",
       "11041  7445  [0.06699860654771328, -0.07967841532081366, -0...  10971   \n",
       "14297  7445  [0.06699860654771328, -0.07967841532081366, -0...   6150   \n",
       "14950  7445  [0.06699860654771328, -0.07967841532081366, -0...   6892   \n",
       "1879   7445  [0.06699860654771328, -0.07967841532081366, -0...   1901   \n",
       "13691  7445  [0.06699860654771328, -0.07967841532081366, -0...   5431   \n",
       "\n",
       "                                                   vecs2       sim  \n",
       "14797  [0.11702847061678767, -0.10443547181785107, -0...  0.985086  \n",
       "5564   [0.05327895730733872, -0.07372163236141205, -0...  0.982657  \n",
       "4920   [0.07758450843393803, -0.07245811559259892, -0...  0.981890  \n",
       "3441   [0.041676432359963655, -0.04655478027416393, -...  0.981710  \n",
       "4264   [0.04088592156767845, -0.04963424289599061, -0...  0.981029  \n",
       "11041  [0.07418017694726586, -0.08750347793102264, -0...  0.980928  \n",
       "14297  [0.0703863805780808, -0.08529900076488653, -0....  0.979687  \n",
       "14950  [0.044685299907411845, -0.05636310949921608, -...  0.978825  \n",
       "1879   [0.07205328019335866, -0.07813337352126837, -0...  0.978803  \n",
       "13691  [0.06258831359446049, -0.07637270260602236, -0...  0.978398  "
      ]
     },
     "execution_count": 19,
     "metadata": {},
     "output_type": "execute_result"
    }
   ],
   "source": [
    "sim_top10 = pdf1[pdf1.sim<1].sort_values('sim', ascending=False).head(10)\n",
    "sim_top10"
   ]
  },
  {
   "cell_type": "code",
   "execution_count": 20,
   "metadata": {},
   "outputs": [
    {
     "data": {
      "text/html": [
       "<div>\n",
       "<style scoped>\n",
       "    .dataframe tbody tr th:only-of-type {\n",
       "        vertical-align: middle;\n",
       "    }\n",
       "\n",
       "    .dataframe tbody tr th {\n",
       "        vertical-align: top;\n",
       "    }\n",
       "\n",
       "    .dataframe thead th {\n",
       "        text-align: right;\n",
       "    }\n",
       "</style>\n",
       "<table border=\"1\" class=\"dataframe\">\n",
       "  <thead>\n",
       "    <tr style=\"text-align: right;\">\n",
       "      <th></th>\n",
       "      <th>id</th>\n",
       "      <th>title</th>\n",
       "      <th>words</th>\n",
       "    </tr>\n",
       "  </thead>\n",
       "  <tbody>\n",
       "    <tr>\n",
       "      <th>0</th>\n",
       "      <td>7445</td>\n",
       "      <td>iOS 性能提升总结</td>\n",
       "      <td>[iOS, 性能, 提升, 总结]</td>\n",
       "    </tr>\n",
       "  </tbody>\n",
       "</table>\n",
       "</div>"
      ],
      "text/plain": [
       "     id       title              words\n",
       "0  7445  iOS 性能提升总结  [iOS, 性能, 提升, 总结]"
      ]
     },
     "execution_count": 20,
     "metadata": {},
     "output_type": "execute_result"
    }
   ],
   "source": [
    "df.filter(col('id')==test_id).toPandas()"
   ]
  },
  {
   "cell_type": "code",
   "execution_count": 21,
   "metadata": {},
   "outputs": [
    {
     "data": {
      "text/html": [
       "<div>\n",
       "<style scoped>\n",
       "    .dataframe tbody tr th:only-of-type {\n",
       "        vertical-align: middle;\n",
       "    }\n",
       "\n",
       "    .dataframe tbody tr th {\n",
       "        vertical-align: top;\n",
       "    }\n",
       "\n",
       "    .dataframe thead th {\n",
       "        text-align: right;\n",
       "    }\n",
       "</style>\n",
       "<table border=\"1\" class=\"dataframe\">\n",
       "  <thead>\n",
       "    <tr style=\"text-align: right;\">\n",
       "      <th></th>\n",
       "      <th>id</th>\n",
       "      <th>title</th>\n",
       "      <th>words</th>\n",
       "    </tr>\n",
       "  </thead>\n",
       "  <tbody>\n",
       "    <tr>\n",
       "      <th>0</th>\n",
       "      <td>1901</td>\n",
       "      <td>iOS 性能优化 (chenkai)</td>\n",
       "      <td>[iOS, 性能, 优化, chenkai]</td>\n",
       "    </tr>\n",
       "    <tr>\n",
       "      <th>1</th>\n",
       "      <td>3443</td>\n",
       "      <td>一次 TableView 性能优化经历（iOS） (Mr.Yang)</td>\n",
       "      <td>[一次, TableView, 性能, 优化, 经历, iOS, Mr, Yang]</td>\n",
       "    </tr>\n",
       "    <tr>\n",
       "      <th>2</th>\n",
       "      <td>12563</td>\n",
       "      <td>iOS 开发中的 11 种锁以及性能对比</td>\n",
       "      <td>[iOS, 开发, 11, 种锁, 以及, 性能, 对比]</td>\n",
       "    </tr>\n",
       "    <tr>\n",
       "      <th>3</th>\n",
       "      <td>13061</td>\n",
       "      <td>iOS 下的图片处理与性能优化</td>\n",
       "      <td>[iOS, 图片, 处理, 性能, 优化]</td>\n",
       "    </tr>\n",
       "    <tr>\n",
       "      <th>4</th>\n",
       "      <td>13586</td>\n",
       "      <td>iOS 界面性能优化浅析</td>\n",
       "      <td>[iOS, 界面, 性能, 优化, 浅析]</td>\n",
       "    </tr>\n",
       "    <tr>\n",
       "      <th>5</th>\n",
       "      <td>10971</td>\n",
       "      <td>iOS 性能优化探讨</td>\n",
       "      <td>[iOS, 性能, 优化, 探讨]</td>\n",
       "    </tr>\n",
       "    <tr>\n",
       "      <th>6</th>\n",
       "      <td>5431</td>\n",
       "      <td>iOS 开发性能提高</td>\n",
       "      <td>[iOS, 开发, 性能, 提高]</td>\n",
       "    </tr>\n",
       "    <tr>\n",
       "      <th>7</th>\n",
       "      <td>6150</td>\n",
       "      <td>微信读书 iOS 性能优化总结</td>\n",
       "      <td>[微信, 读书, iOS, 性能, 优化, 总结]</td>\n",
       "    </tr>\n",
       "    <tr>\n",
       "      <th>8</th>\n",
       "      <td>6727</td>\n",
       "      <td>渲染性能</td>\n",
       "      <td>[渲染, 性能]</td>\n",
       "    </tr>\n",
       "    <tr>\n",
       "      <th>9</th>\n",
       "      <td>6892</td>\n",
       "      <td>[译] iOS 性能优化：Instruments 工具的救命三招</td>\n",
       "      <td>[iOS, 性能, 优化, Instruments, 工具, 救命, 三招]</td>\n",
       "    </tr>\n",
       "  </tbody>\n",
       "</table>\n",
       "</div>"
      ],
      "text/plain": [
       "      id                               title  \\\n",
       "0   1901                  iOS 性能优化 (chenkai)   \n",
       "1   3443  一次 TableView 性能优化经历（iOS） (Mr.Yang)   \n",
       "2  12563                iOS 开发中的 11 种锁以及性能对比   \n",
       "3  13061                     iOS 下的图片处理与性能优化   \n",
       "4  13586                        iOS 界面性能优化浅析   \n",
       "5  10971                          iOS 性能优化探讨   \n",
       "6   5431                          iOS 开发性能提高   \n",
       "7   6150                     微信读书 iOS 性能优化总结   \n",
       "8   6727                                渲染性能   \n",
       "9   6892    [译] iOS 性能优化：Instruments 工具的救命三招   \n",
       "\n",
       "                                        words  \n",
       "0                      [iOS, 性能, 优化, chenkai]  \n",
       "1  [一次, TableView, 性能, 优化, 经历, iOS, Mr, Yang]  \n",
       "2               [iOS, 开发, 11, 种锁, 以及, 性能, 对比]  \n",
       "3                       [iOS, 图片, 处理, 性能, 优化]  \n",
       "4                       [iOS, 界面, 性能, 优化, 浅析]  \n",
       "5                           [iOS, 性能, 优化, 探讨]  \n",
       "6                           [iOS, 开发, 性能, 提高]  \n",
       "7                   [微信, 读书, iOS, 性能, 优化, 总结]  \n",
       "8                                    [渲染, 性能]  \n",
       "9      [iOS, 性能, 优化, Instruments, 工具, 救命, 三招]  "
      ]
     },
     "execution_count": 21,
     "metadata": {},
     "output_type": "execute_result"
    }
   ],
   "source": [
    "df.filter(df.id.isin(sim_top10['id2'].to_list())).toPandas()"
   ]
  },
  {
   "cell_type": "code",
   "execution_count": 22,
   "metadata": {},
   "outputs": [],
   "source": [
    "spark.stop()"
   ]
  },
  {
   "cell_type": "markdown",
   "metadata": {},
   "source": [
    "这么看效果还是不错的"
   ]
  },
  {
   "cell_type": "code",
   "execution_count": null,
   "metadata": {},
   "outputs": [],
   "source": []
  }
 ],
 "metadata": {
  "kernelspec": {
   "display_name": "Python 3",
   "language": "python",
   "name": "python3"
  },
  "language_info": {
   "codemirror_mode": {
    "name": "ipython",
    "version": 3
   },
   "file_extension": ".py",
   "mimetype": "text/x-python",
   "name": "python",
   "nbconvert_exporter": "python",
   "pygments_lexer": "ipython3",
   "version": "3.7.7"
  }
 },
 "nbformat": 4,
 "nbformat_minor": 4
}
